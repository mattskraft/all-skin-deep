{
 "cells": [
  {
   "cell_type": "code",
   "execution_count": 22,
   "metadata": {},
   "outputs": [],
   "source": [
    "import sys\n",
    "sys.path.append('..')\n",
    "from pathlib import Path\n",
    "from skimage.metrics import structural_similarity as ssim\n",
    "import numpy as np\n",
    "from brisque import BRISQUE\n",
    "from PIL import Image\n",
    "from tqdm.notebook import tqdm\n",
    "import matplotlib.pyplot as plt\n",
    "import torchvision.transforms as transforms\n",
    "import shutil\n",
    "\n",
    "# Image transformation for resizing only (no tensor conversion)\n",
    "imsize = 512\n",
    "resize_loader = transforms.Compose([\n",
    "    transforms.Resize(imsize),  # Resize shorter side\n",
    "    transforms.CenterCrop(imsize)  # Crop to square\n",
    "])"
   ]
  },
  {
   "cell_type": "code",
   "execution_count": 12,
   "metadata": {},
   "outputs": [],
   "source": [
    "def calculate_ssim(original_image, generated_image, grayscale=False):\n",
    "    \"\"\"\n",
    "    Calculate the Structural Similarity Index Measure (SSIM) between two images.\n",
    "    \n",
    "    SSIM evaluates the perceived quality of the generated image compared to the original\n",
    "    by assessing structural information, luminance, and contrast. It's designed to\n",
    "    better match human visual perception than simpler metrics like MSE or PSNR.\n",
    "    \n",
    "    The SSIM index ranges from -1 to 1, where:\n",
    "    - 1 indicates perfect structural similarity (identical images)\n",
    "    - 0 indicates no structural similarity\n",
    "    - -1 would indicate perfect anti-correlation (rarely occurs in practice)\n",
    "    \n",
    "    Typical interpretation:\n",
    "    - 0.90-1.00: Excellent similarity\n",
    "    - 0.80-0.90: Good similarity\n",
    "    - 0.70-0.80: Fair similarity\n",
    "    - Below 0.70: Poor similarity\n",
    "    \n",
    "    Note: This implementation can handle both grayscale and RGB images.\n",
    "    For RGB images, the function can either:\n",
    "    1. Convert to grayscale (when grayscale=True - simpler but loses color information)\n",
    "    2. Compute SSIM on full RGB (when grayscale=False - preserves color information)\n",
    "    \n",
    "    Args:\n",
    "        original_image: The reference image (numpy array or PIL Image)\n",
    "        generated_image: The image to compare against the reference (numpy array or PIL Image)\n",
    "        grayscale: Whether to convert images to grayscale before comparison (default: True)\n",
    "        \n",
    "    Returns:\n",
    "        float: SSIM score between the two images (higher is better)\n",
    "    \"\"\"\n",
    "    \n",
    "    # Convert tensor images to NumPy arrays\n",
    "    original = np.array(original_image)\n",
    "    generated = np.array(generated_image)\n",
    "\n",
    "    # Convert to grayscale if specified\n",
    "    if grayscale and original.ndim == 3 and original.shape[2] >= 3:\n",
    "        # Use weighted conversion for better perceptual accuracy\n",
    "        original = np.dot(original[..., :3], [0.2989, 0.5870, 0.1140]).astype(np.uint8)\n",
    "        generated = np.dot(generated[..., :3], [0.2989, 0.5870, 0.1140]).astype(np.uint8)\n",
    "        return ssim(original, generated, data_range=255)\n",
    "    else:\n",
    "        # Handle multichannel images\n",
    "        if original.ndim == 3 and original.shape[2] >= 3:\n",
    "            # For newer scikit-image versions\n",
    "            try:\n",
    "                return ssim(original, generated, data_range=255, channel_axis=2)\n",
    "            # For older scikit-image versions\n",
    "            except TypeError:\n",
    "                return ssim(original, generated, data_range=255, multichannel=True)\n",
    "        else:\n",
    "            # For grayscale images\n",
    "            return ssim(original, generated, data_range=255)"
   ]
  },
  {
   "cell_type": "code",
   "execution_count": 13,
   "metadata": {},
   "outputs": [],
   "source": [
    "def calculate_brisque(generated_image):\n",
    "    \"\"\"\n",
    "    Calculate the Blind/Referenceless Image Spatial Quality Evaluator (BRISQUE) score.\n",
    "    \n",
    "    BRISQUE is a no-reference image quality assessment algorithm that evaluates\n",
    "    the naturalness of an image based on measured deviations from statistical\n",
    "    regularities observed in natural images.\n",
    "    \n",
    "    Lower scores generally indicate better perceptual quality. The typical range\n",
    "    is 0-100, where:\n",
    "    - Scores around 0-30 indicate good quality images\n",
    "    - Scores around 30-50 indicate medium quality\n",
    "    - Scores above 50 may indicate lower quality or distorted images\n",
    "    \n",
    "    Note: BRISQUE requires the image to be in uint8 format (0-255 range) and\n",
    "    works with both grayscale and color images. For color images, the score is\n",
    "    typically calculated on the luminance (Y) channel.\n",
    "    \n",
    "    Args:\n",
    "        generated_image: The input image to evaluate, can be PIL Image or numpy array\n",
    "        \n",
    "    Returns:\n",
    "        float: The BRISQUE score (lower is better)\n",
    "    \"\"\"\n",
    "    brisque = BRISQUE(url=False)\n",
    "    return brisque.score(img=np.asarray(generated_image))"
   ]
  },
  {
   "cell_type": "code",
   "execution_count": 16,
   "metadata": {},
   "outputs": [
    {
     "name": "stdout",
     "output_type": "stream",
     "text": [
      "Found 425 generated images and 425 original images\n"
     ]
    },
    {
     "data": {
      "application/vnd.jupyter.widget-view+json": {
       "model_id": "adbddfd6bca74c9e8e64396ebd2852e9",
       "version_major": 2,
       "version_minor": 0
      },
      "text/plain": [
       "Processing images:   0%|          | 0/425 [00:00<?, ?it/s]"
      ]
     },
     "metadata": {},
     "output_type": "display_data"
    },
    {
     "name": "stdout",
     "output_type": "stream",
     "text": [
      "Successfully processed 425 image pairs\n"
     ]
    }
   ],
   "source": [
    "ORIGINAL_PATH = '/home/matthias/projects/all-skin-deep/data/dataset_balanced/'\n",
    "GENERATED_PATH = '/home/matthias/projects/all-skin-deep/data/dataset_balanced_nst/'\n",
    "\n",
    "generated_paths = [f for f in Path(GENERATED_PATH).rglob('*') if f.is_file()]\n",
    "\n",
    "# Create a dictionary for faster lookups\n",
    "original_files = {}\n",
    "for f in Path(ORIGINAL_PATH).rglob('*'):\n",
    "    if f.is_file():\n",
    "        original_files[f.name] = f\n",
    "\n",
    "print(f\"Found {len(generated_paths)} generated images and {len(original_files)} original images\")\n",
    "\n",
    "# Main processing loop\n",
    "nst_scores = {}\n",
    "for gen_path in tqdm(generated_paths, desc='Processing images'):\n",
    "    if gen_path.name not in original_files:\n",
    "        not_found += 1\n",
    "        if not_found <= 5:\n",
    "            tqdm.write(f\"Original file not found for {gen_path.name}\")\n",
    "        continue\n",
    "    \n",
    "    orig_path = original_files[gen_path.name]\n",
    "    \n",
    "    try:\n",
    "        # Load images directly as PIL images (no tensor conversion)\n",
    "        generated_image = Image.open(gen_path)\n",
    "        original_image = resize_loader(Image.open(orig_path))\n",
    "        \n",
    "        # Calculate metrics on PIL images\n",
    "        nst_scores[gen_path.stem] = {\n",
    "            \"generated_path\": gen_path,\n",
    "            \"original_path\": orig_path,\n",
    "            \"ssim_rgb\": calculate_ssim(original_image, generated_image, grayscale=False),\n",
    "            \"ssim_gray\": calculate_ssim(original_image, generated_image, grayscale=True),\n",
    "            \"brisque\": calculate_brisque(generated_image)\n",
    "        }\n",
    "    except Exception as e:\n",
    "        tqdm.write(f\"Error processing {gen_path.name}: {str(e)}\")\n",
    "\n",
    "print(f\"Successfully processed {len(nst_scores)} image pairs\")"
   ]
  },
  {
   "cell_type": "code",
   "execution_count": null,
   "metadata": {},
   "outputs": [
    {
     "data": {
      "image/png": "[encoded data removed]",
      "text/plain": [
       "<Figure size 1200x500 with 2 Axes>"
      ]
     },
     "metadata": {},
     "output_type": "display_data"
    }
   ],
   "source": [
    "# Extract values\n",
    "ssim_values = [v[\"ssim_rgb\"] for v in nst_scores.values()]\n",
    "brisque_values = [v[\"brisque\"] for v in nst_scores.values()]\n",
    "# Create subplots\n",
    "fig, axes = plt.subplots(1, 2, figsize=(12, 5))\n",
    "\n",
    "# SSIM distribution\n",
    "axes[0].hist(ssim_values, bins=30, color='skyblue', edgecolor='black')\n",
    "axes[0].set_title(\"SSIM Distribution\")\n",
    "axes[0].set_xlabel(\"SSIM Score\")\n",
    "axes[0].set_ylabel(\"Counts\")\n",
    "\n",
    "# BRISQUE distribution\n",
    "axes[1].hist(brisque_values, bins=30, color='salmon', edgecolor='black')\n",
    "axes[1].set_title(\"BRISQUE Distribution\")\n",
    "axes[1].set_xlabel(\"BRISQUE Score\")\n",
    "axes[1].set_ylabel(\"Counts\")\n",
    "\n",
    "plt.tight_layout()\n",
    "plt.show()"
   ]
  },
  {
   "cell_type": "code",
   "execution_count": null,
   "metadata": {},
   "outputs": [
    {
     "name": "stdout",
     "output_type": "stream",
     "text": [
      "Moving images with SSIM RGB scores below 0.4...\n"
     ]
    },
    {
     "data": {
      "application/vnd.jupyter.widget-view+json": {
       "model_id": "ec5baeda490a4abdae26e7c4826f511a",
       "version_major": 2,
       "version_minor": 0
      },
      "text/plain": [
       "  0%|          | 0/425 [00:00<?, ?it/s]"
      ]
     },
     "metadata": {},
     "output_type": "display_data"
    },
    {
     "name": "stdout",
     "output_type": "stream",
     "text": [
      "Skipping /home/matthias/projects/all-skin-deep/data/dataset_balanced_nst/df/ISIC_0033891.jpg - file not found\n",
      "Moved /home/matthias/projects/all-skin-deep/data/dataset_balanced_nst/df/ISIC_0026471.jpg to /home/matthias/projects/all-skin-deep/data/dataset_balanced_nst_excluded/df/ISIC_0026471.jpg\n",
      "Moved /home/matthias/projects/all-skin-deep/data/dataset_balanced_nst/bcc/ISIC_0027819.jpg to /home/matthias/projects/all-skin-deep/data/dataset_balanced_nst_excluded/bcc/ISIC_0027819.jpg\n",
      "Moved /home/matthias/projects/all-skin-deep/data/dataset_balanced_nst/vasc/ISIC_0030770.jpg to /home/matthias/projects/all-skin-deep/data/dataset_balanced_nst_excluded/vasc/ISIC_0030770.jpg\n",
      "Moved /home/matthias/projects/all-skin-deep/data/dataset_balanced_nst/mel/ISIC_0034012.jpg to /home/matthias/projects/all-skin-deep/data/dataset_balanced_nst_excluded/mel/ISIC_0034012.jpg\n",
      "Moved 4 out of 425 images with SSIM RGB scores below 0.4\n",
      "Skipped 1 files that were not found\n"
     ]
    },
    {
     "data": {
      "text/plain": [
       "4"
      ]
     },
     "execution_count": 25,
     "metadata": {},
     "output_type": "execute_result"
    }
   ],
   "source": [
    "def move_low_ssim_images(nst_scores, threshold=0.3):\n",
    "    \"\"\"\n",
    "    Moves images with SSIM RGB scores below a threshold to a new directory.\n",
    "    Creates an automatic output directory by appending \"_excluded\" to the original source directory.\n",
    "    Preserves the original folder structure.\n",
    "    \n",
    "    Args:\n",
    "        nst_scores (dict): Dictionary of scores containing SSIM values\n",
    "        threshold (float): SSIM threshold value (images below this will be moved)\n",
    "    \"\"\"\n",
    "    # Track statistics\n",
    "    total_images = len(nst_scores)\n",
    "    moved_images = 0\n",
    "    skipped_images = 0\n",
    "    \n",
    "    print(f\"Moving images with SSIM RGB scores below {threshold}...\")\n",
    "    \n",
    "    # Process each image in the scores dictionary\n",
    "    for image_stem, scores in tqdm(nst_scores.items()):\n",
    "        # Check if the SSIM score is below threshold\n",
    "        if scores[\"ssim_rgb\"] < threshold:\n",
    "            # Get path of the generated image\n",
    "            gen_path = Path(scores[\"generated_path\"])\n",
    "            \n",
    "            # Skip if the file doesn't exist (maybe already moved)\n",
    "            if not gen_path.exists():\n",
    "                print(f\"Skipping {gen_path} - file not found\")\n",
    "                skipped_images += 1\n",
    "                continue\n",
    "            \n",
    "            # Create output directory by appending \"_excluded\" to the source directory name\n",
    "            source_parent_dir = gen_path.parent.parent\n",
    "            output_parent_dir = Path(str(source_parent_dir) + \"_excluded\")\n",
    "            \n",
    "            # Get the class directory (i.e., the last part of the path)\n",
    "            class_dir = gen_path.parent.name\n",
    "            \n",
    "            # Create the corresponding output directory\n",
    "            target_dir = output_parent_dir / class_dir\n",
    "            target_dir.mkdir(parents=True, exist_ok=True)\n",
    "            \n",
    "            # Target path for the moved file\n",
    "            target_path = target_dir / gen_path.name\n",
    "            \n",
    "            try:\n",
    "                # Move the file\n",
    "                shutil.move(gen_path, target_path)\n",
    "                moved_images += 1\n",
    "                print(f\"Moved {gen_path} to {target_path}\")  # Log individual moves\n",
    "            except Exception as e:\n",
    "                print(f\"Error moving {gen_path}: {str(e)}\")\n",
    "    \n",
    "    print(f\"Moved {moved_images} out of {total_images} images with SSIM RGB scores below {threshold}\")\n",
    "    print(f\"Skipped {skipped_images} files that were not found\")\n",
    "    return moved_images\n",
    "\n",
    "\n",
    "move_low_ssim_images(nst_scores, threshold=0.4)"
   ]
  }
 ],
 "metadata": {
  "kernelspec": {
   "display_name": "disc",
   "language": "python",
   "name": "python3"
  },
  "language_info": {
   "codemirror_mode": {
    "name": "ipython",
    "version": 3
   },
   "file_extension": ".py",
   "mimetype": "text/x-python",
   "name": "python",
   "nbconvert_exporter": "python",
   "pygments_lexer": "ipython3",
   "version": "3.10.16"
  }
 },
 "nbformat": 4,
 "nbformat_minor": 2
}
